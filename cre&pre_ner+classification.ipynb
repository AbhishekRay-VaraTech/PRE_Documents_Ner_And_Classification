{
  "nbformat": 4,
  "nbformat_minor": 0,
  "metadata": {
    "colab": {
      "provenance": [],
      "gpuType": "T4"
    },
    "kernelspec": {
      "name": "python3",
      "display_name": "Python 3"
    },
    "language_info": {
      "name": "python"
    },
    "accelerator": "GPU"
  },
  "cells": [
    {
      "cell_type": "code",
      "execution_count": 1,
      "metadata": {
        "colab": {
          "base_uri": "https://localhost:8080/"
        },
        "id": "-K3FCICH4Kh3",
        "outputId": "c7cfb843-6b04-4f8a-c043-214c9bdd9a72"
      },
      "outputs": [
        {
          "output_type": "stream",
          "name": "stdout",
          "text": [
            "Collecting pdf2image\n",
            "  Downloading pdf2image-1.16.3-py3-none-any.whl (11 kB)\n",
            "Requirement already satisfied: pillow in /usr/local/lib/python3.10/dist-packages (from pdf2image) (9.4.0)\n",
            "Installing collected packages: pdf2image\n",
            "Successfully installed pdf2image-1.16.3\n"
          ]
        }
      ],
      "source": [
        "!pip install pdf2image --upgrade"
      ]
    },
    {
      "cell_type": "code",
      "source": [
        "!sudo apt-get install poppler-utils\n",
        "!pip install -U spacy -q"
      ],
      "metadata": {
        "colab": {
          "base_uri": "https://localhost:8080/"
        },
        "id": "IG4unevn4kC8",
        "outputId": "cb3a177e-6d25-4b7b-b184-42e0ec60ddc8"
      },
      "execution_count": 2,
      "outputs": [
        {
          "output_type": "stream",
          "name": "stdout",
          "text": [
            "Reading package lists... Done\n",
            "Building dependency tree... Done\n",
            "Reading state information... Done\n",
            "The following NEW packages will be installed:\n",
            "  poppler-utils\n",
            "0 upgraded, 1 newly installed, 0 to remove and 19 not upgraded.\n",
            "Need to get 186 kB of archives.\n",
            "After this operation, 696 kB of additional disk space will be used.\n",
            "Get:1 http://archive.ubuntu.com/ubuntu jammy-updates/main amd64 poppler-utils amd64 22.02.0-2ubuntu0.2 [186 kB]\n",
            "Fetched 186 kB in 1s (299 kB/s)\n",
            "debconf: unable to initialize frontend: Dialog\n",
            "debconf: (No usable dialog-like program is installed, so the dialog based frontend cannot be used. at /usr/share/perl5/Debconf/FrontEnd/Dialog.pm line 78, <> line 1.)\n",
            "debconf: falling back to frontend: Readline\n",
            "debconf: unable to initialize frontend: Readline\n",
            "debconf: (This frontend requires a controlling tty.)\n",
            "debconf: falling back to frontend: Teletype\n",
            "dpkg-preconfigure: unable to re-open stdin: \n",
            "Selecting previously unselected package poppler-utils.\n",
            "(Reading database ... 120874 files and directories currently installed.)\n",
            "Preparing to unpack .../poppler-utils_22.02.0-2ubuntu0.2_amd64.deb ...\n",
            "Unpacking poppler-utils (22.02.0-2ubuntu0.2) ...\n",
            "Setting up poppler-utils (22.02.0-2ubuntu0.2) ...\n",
            "Processing triggers for man-db (2.10.2-1) ...\n",
            "\u001b[2K     \u001b[90m━━━━━━━━━━━━━━━━━━━━━━━━━━━━━━━━━━━━━━━━\u001b[0m \u001b[32m6.6/6.6 MB\u001b[0m \u001b[31m41.2 MB/s\u001b[0m eta \u001b[36m0:00:00\u001b[0m\n",
            "\u001b[2K     \u001b[90m━━━━━━━━━━━━━━━━━━━━━━━━━━━━━━━━━━━━━━━━\u001b[0m \u001b[32m49.8/49.8 kB\u001b[0m \u001b[31m5.2 MB/s\u001b[0m eta \u001b[36m0:00:00\u001b[0m\n",
            "\u001b[2K     \u001b[90m━━━━━━━━━━━━━━━━━━━━━━━━━━━━━━━━━━━━━━━━\u001b[0m \u001b[32m45.0/45.0 kB\u001b[0m \u001b[31m4.5 MB/s\u001b[0m eta \u001b[36m0:00:00\u001b[0m\n",
            "\u001b[?25h\u001b[31mERROR: pip's dependency resolver does not currently take into account all the packages that are installed. This behaviour is the source of the following dependency conflicts.\n",
            "en-core-web-sm 3.6.0 requires spacy<3.7.0,>=3.6.0, but you have spacy 3.7.2 which is incompatible.\u001b[0m\u001b[31m\n",
            "\u001b[0m"
          ]
        }
      ]
    },
    {
      "cell_type": "code",
      "source": [
        "from pdf2image import convert_from_path\n",
        "from PIL import Image\n",
        "import os\n",
        "import io\n",
        "import pandas as pd\n",
        "import numpy as np\n",
        "import spacy\n",
        "# from paddleocr import PaddleOCR\n",
        "from spacy.tokens import DocBin\n",
        "import json\n",
        "from tqdm import tqdm\n",
        "nlp = spacy.blank(\"en\") # load a new spacy model\n",
        "db = DocBin()\n",
        "import re"
      ],
      "metadata": {
        "id": "cV6bFaVv4uHl"
      },
      "execution_count": 3,
      "outputs": []
    },
    {
      "cell_type": "code",
      "source": [
        "import json\n",
        "f = open('/content/DISTRIBUTION_ANNOTATION.json')\n",
        "\n",
        "TRAIN_DATA = json.load(f)"
      ],
      "metadata": {
        "id": "7mgAgU6g411i",
        "colab": {
          "base_uri": "https://localhost:8080/",
          "height": 358
        },
        "outputId": "ad4bb1b5-369c-4c9b-feb8-c9307742c9a6"
      },
      "execution_count": 55,
      "outputs": [
        {
          "output_type": "error",
          "ename": "UnicodeDecodeError",
          "evalue": "ignored",
          "traceback": [
            "\u001b[0;31m---------------------------------------------------------------------------\u001b[0m",
            "\u001b[0;31mUnicodeDecodeError\u001b[0m                        Traceback (most recent call last)",
            "\u001b[0;32m<ipython-input-55-90c259767474>\u001b[0m in \u001b[0;36m<cell line: 4>\u001b[0;34m()\u001b[0m\n\u001b[1;32m      2\u001b[0m \u001b[0mf\u001b[0m \u001b[0;34m=\u001b[0m \u001b[0mopen\u001b[0m\u001b[0;34m(\u001b[0m\u001b[0;34m'/content/Return of Capital on 2023 08 04 for Vista Equity Partners Fund VIII, L.P..pdf'\u001b[0m\u001b[0;34m)\u001b[0m\u001b[0;34m\u001b[0m\u001b[0;34m\u001b[0m\u001b[0m\n\u001b[1;32m      3\u001b[0m \u001b[0;34m\u001b[0m\u001b[0m\n\u001b[0;32m----> 4\u001b[0;31m \u001b[0mTRAIN_DATA\u001b[0m \u001b[0;34m=\u001b[0m \u001b[0mjson\u001b[0m\u001b[0;34m.\u001b[0m\u001b[0mload\u001b[0m\u001b[0;34m(\u001b[0m\u001b[0mf\u001b[0m\u001b[0;34m)\u001b[0m\u001b[0;34m\u001b[0m\u001b[0;34m\u001b[0m\u001b[0m\n\u001b[0m",
            "\u001b[0;32m/usr/lib/python3.10/json/__init__.py\u001b[0m in \u001b[0;36mload\u001b[0;34m(fp, cls, object_hook, parse_float, parse_int, parse_constant, object_pairs_hook, **kw)\u001b[0m\n\u001b[1;32m    291\u001b[0m     \u001b[0mkwarg\u001b[0m\u001b[0;34m;\u001b[0m \u001b[0motherwise\u001b[0m\u001b[0;31m \u001b[0m\u001b[0;31m`\u001b[0m\u001b[0;31m`\u001b[0m\u001b[0mJSONDecoder\u001b[0m\u001b[0;31m`\u001b[0m\u001b[0;31m`\u001b[0m \u001b[0;32mis\u001b[0m \u001b[0mused\u001b[0m\u001b[0;34m.\u001b[0m\u001b[0;34m\u001b[0m\u001b[0;34m\u001b[0m\u001b[0m\n\u001b[1;32m    292\u001b[0m     \"\"\"\n\u001b[0;32m--> 293\u001b[0;31m     return loads(fp.read(),\n\u001b[0m\u001b[1;32m    294\u001b[0m         \u001b[0mcls\u001b[0m\u001b[0;34m=\u001b[0m\u001b[0mcls\u001b[0m\u001b[0;34m,\u001b[0m \u001b[0mobject_hook\u001b[0m\u001b[0;34m=\u001b[0m\u001b[0mobject_hook\u001b[0m\u001b[0;34m,\u001b[0m\u001b[0;34m\u001b[0m\u001b[0;34m\u001b[0m\u001b[0m\n\u001b[1;32m    295\u001b[0m         \u001b[0mparse_float\u001b[0m\u001b[0;34m=\u001b[0m\u001b[0mparse_float\u001b[0m\u001b[0;34m,\u001b[0m \u001b[0mparse_int\u001b[0m\u001b[0;34m=\u001b[0m\u001b[0mparse_int\u001b[0m\u001b[0;34m,\u001b[0m\u001b[0;34m\u001b[0m\u001b[0;34m\u001b[0m\u001b[0m\n",
            "\u001b[0;32m/usr/lib/python3.10/codecs.py\u001b[0m in \u001b[0;36mdecode\u001b[0;34m(self, input, final)\u001b[0m\n\u001b[1;32m    320\u001b[0m         \u001b[0;31m# decode input (taking the buffer into account)\u001b[0m\u001b[0;34m\u001b[0m\u001b[0;34m\u001b[0m\u001b[0m\n\u001b[1;32m    321\u001b[0m         \u001b[0mdata\u001b[0m \u001b[0;34m=\u001b[0m \u001b[0mself\u001b[0m\u001b[0;34m.\u001b[0m\u001b[0mbuffer\u001b[0m \u001b[0;34m+\u001b[0m \u001b[0minput\u001b[0m\u001b[0;34m\u001b[0m\u001b[0;34m\u001b[0m\u001b[0m\n\u001b[0;32m--> 322\u001b[0;31m         \u001b[0;34m(\u001b[0m\u001b[0mresult\u001b[0m\u001b[0;34m,\u001b[0m \u001b[0mconsumed\u001b[0m\u001b[0;34m)\u001b[0m \u001b[0;34m=\u001b[0m \u001b[0mself\u001b[0m\u001b[0;34m.\u001b[0m\u001b[0m_buffer_decode\u001b[0m\u001b[0;34m(\u001b[0m\u001b[0mdata\u001b[0m\u001b[0;34m,\u001b[0m \u001b[0mself\u001b[0m\u001b[0;34m.\u001b[0m\u001b[0merrors\u001b[0m\u001b[0;34m,\u001b[0m \u001b[0mfinal\u001b[0m\u001b[0;34m)\u001b[0m\u001b[0;34m\u001b[0m\u001b[0;34m\u001b[0m\u001b[0m\n\u001b[0m\u001b[1;32m    323\u001b[0m         \u001b[0;31m# keep undecoded input until the next call\u001b[0m\u001b[0;34m\u001b[0m\u001b[0;34m\u001b[0m\u001b[0m\n\u001b[1;32m    324\u001b[0m         \u001b[0mself\u001b[0m\u001b[0;34m.\u001b[0m\u001b[0mbuffer\u001b[0m \u001b[0;34m=\u001b[0m \u001b[0mdata\u001b[0m\u001b[0;34m[\u001b[0m\u001b[0mconsumed\u001b[0m\u001b[0;34m:\u001b[0m\u001b[0;34m]\u001b[0m\u001b[0;34m\u001b[0m\u001b[0;34m\u001b[0m\u001b[0m\n",
            "\u001b[0;31mUnicodeDecodeError\u001b[0m: 'utf-8' codec can't decode byte 0xe2 in position 10: invalid continuation byte"
          ]
        }
      ]
    },
    {
      "cell_type": "code",
      "source": [
        "# text=TRAIN_DATA['annotations'][0]\n",
        "# text\n",
        "TRAIN_DATA['annotations'][0][1]"
      ],
      "metadata": {
        "id": "M_QsiU7d_GpY",
        "colab": {
          "base_uri": "https://localhost:8080/"
        },
        "outputId": "49d3c25b-4bb8-4dd3-e390-cf1914ad3cfb"
      },
      "execution_count": 20,
      "outputs": [
        {
          "output_type": "execute_result",
          "data": {
            "text/plain": [
              "{'entities': [[0, 29, 'FUND_NAME'],\n",
              "  [93, 107, 'AMOUNT_DUE'],\n",
              "  [122, 137, 'NOTICE_DATE'],\n",
              "  [152, 165, 'DUE_DATE'],\n",
              "  [187, 200, 'RETURN_OF_CAPITAL'],\n",
              "  [211, 224, 'RETURN_OF_CAPITAL'],\n",
              "  [235, 248, 'RETURN_OF_CAPITAL'],\n",
              "  [353, 367, 'AMOUNT_DUE'],\n",
              "  [591, 601, 'LP_NAME'],\n",
              "  [602, 614, 'RETURN_OF_CAPITAL'],\n",
              "  [642, 652, 'LP_NAME'],\n",
              "  [653, 666, 'RETURN_OF_CAPITAL'],\n",
              "  [695, 705, 'LP_NAME'],\n",
              "  [706, 718, 'RETURN_OF_CAPITAL'],\n",
              "  [746, 756, 'LP_NAME'],\n",
              "  [757, 769, 'RETURN_OF_CAPITAL'],\n",
              "  [797, 807, 'LP_NAME'],\n",
              "  [808, 820, 'RETURN_OF_CAPITAL'],\n",
              "  [847, 857, 'LP_NAME'],\n",
              "  [858, 870, 'RETURN_OF_CAPITAL'],\n",
              "  [898, 908, 'LP_NAME'],\n",
              "  [909, 921, 'RETURN_OF_CAPITAL'],\n",
              "  [949, 959, 'LP_NAME'],\n",
              "  [960, 973, 'RETURN_OF_CAPITAL'],\n",
              "  [1002, 1012, 'LP_NAME'],\n",
              "  [1013, 1023, 'RETURN_OF_CAPITAL'],\n",
              "  [1061, 1074, 'RETURN_OF_CAPITAL'],\n",
              "  [1089, 1103, 'AMOUNT_DUE']]}"
            ]
          },
          "metadata": {},
          "execution_count": 20
        }
      ]
    },
    {
      "cell_type": "code",
      "source": [
        "def create_training_data(training_data, output_dir):\n",
        "    nlp = spacy.blank(\"en\")\n",
        "    db = DocBin()\n",
        "\n",
        "    for text, annot in tqdm(training_data['annotations']):\n",
        "        doc = nlp.make_doc(text)\n",
        "        ents = []\n",
        "        for start, end, label in annot[\"entities\"]:\n",
        "            span = doc.char_span(start, end, label=label, alignment_mode=\"contract\")\n",
        "            if span is None:\n",
        "                print(\"Skipping entity\")\n",
        "            else:\n",
        "                ents.append(span)\n",
        "        doc.ents = ents\n",
        "        db.add(doc)\n",
        "\n",
        "    db.to_disk(output_dir)\n",
        "create_training_data(TRAIN_DATA, \"./training_data.spacy\")\n"
      ],
      "metadata": {
        "colab": {
          "base_uri": "https://localhost:8080/"
        },
        "id": "uYmxkrSE5EeD",
        "outputId": "cb9058d5-a83b-4a00-f194-df98d451afd6"
      },
      "execution_count": 21,
      "outputs": [
        {
          "output_type": "stream",
          "name": "stderr",
          "text": [
            "100%|██████████| 45/45 [00:00<00:00, 1037.51it/s]"
          ]
        },
        {
          "output_type": "stream",
          "name": "stdout",
          "text": [
            "Skipping entity\n"
          ]
        },
        {
          "output_type": "stream",
          "name": "stderr",
          "text": [
            "\n"
          ]
        }
      ]
    },
    {
      "cell_type": "code",
      "source": [
        "! python -m spacy init config config.cfg --lang en --pipeline ner --optimize efficiency\n",
        "\n",
        "! python -m spacy train config.cfg --output ./ --paths.train ./training_data.spacy --paths.dev ./training_data.spacy"
      ],
      "metadata": {
        "id": "kEtSZ3qG5JNi",
        "colab": {
          "base_uri": "https://localhost:8080/"
        },
        "outputId": "9f4c9ff4-5b8b-4633-86ba-c291cb529e0d"
      },
      "execution_count": 22,
      "outputs": [
        {
          "output_type": "stream",
          "name": "stdout",
          "text": [
            "2023-11-01 05:10:43.912394: E tensorflow/compiler/xla/stream_executor/cuda/cuda_dnn.cc:9342] Unable to register cuDNN factory: Attempting to register factory for plugin cuDNN when one has already been registered\n",
            "2023-11-01 05:10:43.912458: E tensorflow/compiler/xla/stream_executor/cuda/cuda_fft.cc:609] Unable to register cuFFT factory: Attempting to register factory for plugin cuFFT when one has already been registered\n",
            "2023-11-01 05:10:43.912497: E tensorflow/compiler/xla/stream_executor/cuda/cuda_blas.cc:1518] Unable to register cuBLAS factory: Attempting to register factory for plugin cuBLAS when one has already been registered\n",
            "2023-11-01 05:10:45.145554: W tensorflow/compiler/tf2tensorrt/utils/py_utils.cc:38] TF-TRT Warning: Could not find TensorRT\n",
            "\n",
            "\u001b[38;5;1m✘ The provided output file already exists. To force overwriting the\n",
            "config file, set the --force or -F flag.\u001b[0m\n",
            "\n",
            "2023-11-01 05:10:53.432023: E tensorflow/compiler/xla/stream_executor/cuda/cuda_dnn.cc:9342] Unable to register cuDNN factory: Attempting to register factory for plugin cuDNN when one has already been registered\n",
            "2023-11-01 05:10:53.432092: E tensorflow/compiler/xla/stream_executor/cuda/cuda_fft.cc:609] Unable to register cuFFT factory: Attempting to register factory for plugin cuFFT when one has already been registered\n",
            "2023-11-01 05:10:53.432137: E tensorflow/compiler/xla/stream_executor/cuda/cuda_blas.cc:1518] Unable to register cuBLAS factory: Attempting to register factory for plugin cuBLAS when one has already been registered\n",
            "2023-11-01 05:10:54.672518: W tensorflow/compiler/tf2tensorrt/utils/py_utils.cc:38] TF-TRT Warning: Could not find TensorRT\n",
            "\u001b[38;5;4mℹ Saving to output directory: .\u001b[0m\n",
            "\u001b[38;5;4mℹ Using CPU\u001b[0m\n",
            "\u001b[1m\n",
            "=========================== Initializing pipeline ===========================\u001b[0m\n",
            "\u001b[38;5;2m✔ Initialized pipeline\u001b[0m\n",
            "\u001b[1m\n",
            "============================= Training pipeline =============================\u001b[0m\n",
            "\u001b[38;5;4mℹ Pipeline: ['tok2vec', 'ner']\u001b[0m\n",
            "\u001b[38;5;4mℹ Initial learn rate: 0.001\u001b[0m\n",
            "E    #       LOSS TOK2VEC  LOSS NER  ENTS_F  ENTS_P  ENTS_R  SCORE \n",
            "---  ------  ------------  --------  ------  ------  ------  ------\n",
            "  0       0          0.00     97.08    0.00    0.00    0.00    0.00\n",
            " 17     200       3669.10   2748.54   84.96   92.31   78.69    0.85\n",
            " 37     400         98.05    204.59   98.36   98.36   98.36    0.98\n",
            " 60     600         15.65     85.16   98.33  100.00   96.72    0.98\n",
            " 86     800         16.99     87.63   98.36   98.36   98.36    0.98\n",
            "118    1000         26.20    101.04   98.39   96.83  100.00    0.98\n",
            "158    1200         24.35    125.18   98.33  100.00   96.72    0.98\n",
            "205    1400         26.85    143.46   98.36   98.36   98.36    0.98\n",
            "268    1600         33.77    173.08   98.36   98.36   98.36    0.98\n",
            "339    1800         27.05    178.20   98.33  100.00   96.72    0.98\n",
            "437    2000         22.82    234.90   98.36   98.36   98.36    0.98\n",
            "537    2200         19.46    231.99   98.36   98.36   98.36    0.98\n",
            "661    2400         27.20    279.49   98.39   96.83  100.00    0.98\n",
            "861    2600         43.89    434.43   98.39   96.83  100.00    0.98\n",
            "\u001b[38;5;2m✔ Saved pipeline to output directory\u001b[0m\n",
            "model-last\n"
          ]
        }
      ]
    },
    {
      "cell_type": "code",
      "source": [
        "file_path = \"/content/EQT X   Distribution   2023 07 14 (1).json\""
      ],
      "metadata": {
        "id": "7SNchjA4VTL0"
      },
      "execution_count": 62,
      "outputs": []
    },
    {
      "cell_type": "code",
      "source": [
        "headings = {\n",
        "    # \"income_statement\": {\n",
        "    #     \"label\": \"Income Statement\",\n",
        "    #     \"pattern\": [\"Income statement\", \"Income summary\", \"Income and Expenses\", \"Income & Expense\", \"Cash Flow\", \"Budget Comparison\"],\n",
        "    #     \"tags\": ['ASSETNAME', 'DOCUMENTNAME', 'DOCUMENTPERIOD', 'MONTH1', 'MONTH2', 'MONTH3', 'MONTH4', 'MONTH5', 'MONTH6', 'MONTH7', 'MONTHS', 'MONTH9', 'MONTH10', 'MONTH11', 'MONTH12', 'ACCOUNT', 'AMOUNTMONTH1', 'AMOUNTMONTH2', 'AMOUNTMONTH3', 'AMOUNTMONTH4', 'AMOUNTMONTHS', 'AMOUNTMONTH6', 'AMOUNTMONTH7', 'AMOUNTMONTHS', 'AMOUNTMONTH9', 'AMOUNTMONTH10', 'AMOUNTMONTH11', 'AMOUNTMONTH12', 'AMOUNTTOTAL']\n",
        "    # },\n",
        "    # \"rent_roll\": {\n",
        "    #     \"label\": \"Rent Roll\",\n",
        "    #     \"pattern\": [\"Rent roll\", \"Rentroll\"],\n",
        "    #     \"tags\": ['UNIT_NUMBER', 'UNIT_TYPE', 'TENANT_NAME', 'SPACE_SIZE', 'SPACE_SIZE_UNIT_TYPE', 'MARKET_RENT', 'RENTAL_AMOUNT', 'RENTAL_PERIOD', 'LEASE_DATE', 'MOVE_IN_DATE', 'LEASE_EXPIRATION_DATE', 'MOVE_OUT_DATE', 'BASE_RENT_PERIOD', 'RENT_START_DATE', 'VACANCY_RATE', 'OCCUPANCY_RATE', 'UNITS_AVAILABLE', 'VACANT_UNITS', 'OCCUPIED_UNITS', 'NUMBER_OF_ASSIGNED_UNITS', 'AVERAGE_SPACE_SIZE', 'ASSIGNED_UNIT_TYPE', 'BASE_RENT']\n",
        "    # },\n",
        "    \"capital\": {\n",
        "        \"label\": \"Capital\",\n",
        "        \"pattern\": [\"capital\", \"Capital\",\"CAPITAL\"],\n",
        "        \"tags\":['FUND_NAME',\n",
        " 'GP_NAME',\n",
        " 'LP_NAME',\n",
        " 'INVESTMENT_NAME',\n",
        " 'INVESTMENT_AMOUNT',\n",
        " 'NOTICE_DATE',\n",
        " 'DUE_DATE',\n",
        " 'CURRENCY_CODE',\n",
        " 'AMOUNT_DUE',\n",
        " 'COMMITMENT_AMOUNT',\n",
        " 'UNFUNDED_COMMITMENT',\n",
        " 'INVESTOR_NUMBER',\n",
        " 'NOTICE_NUMBER',\n",
        " 'INVESTMENT_CALL_AMOUNT',\n",
        " 'EXCESS_CASH_RETURNED',\n",
        " 'MANAGEMENT_FEE',\n",
        " 'MANAGEMENT_FEE_DISCOUNT',\n",
        " 'MAKE_UP_MANAGEMENT_FEE',\n",
        " 'MANAGEMENT_FEE_INTEREST',\n",
        " 'NET_MANAGEMENT_FEE',\n",
        " 'PARTNERSHIP_EXPENSES',\n",
        " 'ORGANIZATIONAL_COSTS',\n",
        " 'DISTRIBUTION_OF_PROCEEDS',\n",
        " 'CAPITAL_CONTRIBUTION_',\n",
        " 'AGGREGATE_CAPITAL_CALL_AMOUNT',\n",
        " 'TOTAL_MAKE_UP_CONTRIBUTIONS',\n",
        " 'MAKE_UP_INTEREST_PAYMENT',\n",
        " 'UNDRAWN_COMMITMENT_BEFORE',\n",
        " 'UNDRAWN_COMMITMENT_EFFECT',\n",
        " 'UNDRAWN_COMMITMENT_AFTER'],\n",
        "    },\n",
        "    \"distribution\":{\n",
        "        \"label\":\"Distribution\",\n",
        "        \"pattern\":[\"Distribution\",\"distribution\",\"DISTRIBUTION\"],\n",
        "        \"tags\":['FUND_NAME',\n",
        " 'GP_NAME',\n",
        " 'LP_NAME',\n",
        " 'INVESTMENT_NAME',\n",
        " 'INVESTMENT_AMOUNT',\n",
        " 'NOTICE_DATE',\n",
        " 'DUE_DATE',\n",
        " 'CURRENCY_CODE',\n",
        " 'AMOUNT_DUE',\n",
        " 'COMMITMENT_AMOUNT',\n",
        " 'UNFUNDED_COMMITMENT',\n",
        " 'INVESTOR_NUMBER',\n",
        " 'NOTICE_NUMBER',\n",
        " 'INVESTMENT_CALL_AMOUNT',\n",
        " 'EXCESS_CASH_RETURNED',\n",
        " 'MANAGEMENT_FEE',\n",
        " 'MANAGEMENT_FEE_DISCOUNT',\n",
        " 'MAKE_UP_MANAGEMENT_FEE',\n",
        " 'MANAGEMENT_FEE_INTEREST',\n",
        " 'NET_MANAGEMENT_FEE',\n",
        " 'PARTNERSHIP_EXPENSES',\n",
        " 'ORGANIZATIONAL_COSTS',\n",
        " 'DISTRIBUTION_OF_PROCEEDS',\n",
        " 'CAPITAL_CONTRIBUTION_',\n",
        " 'AGGREGATE_CAPITAL_CALL_AMOUNT',\n",
        " 'TOTAL_MAKE_UP_CONTRIBUTIONS',\n",
        " 'MAKE_UP_INTEREST_PAYMENT',\n",
        " 'UNDRAWN_COMMITMENT_BEFORE',\n",
        " 'UNDRAWN_COMMITMENT_EFFECT',\n",
        " 'UNDRAWN_COMMITMENT_AFTER'],\n",
        "    },\n",
        "}"
      ],
      "metadata": {
        "id": "cica81475NEO"
      },
      "execution_count": 27,
      "outputs": []
    },
    {
      "cell_type": "code",
      "source": [
        "def create_image(pdf_path):\n",
        "    pages = []\n",
        "    images = convert_from_path(pdf_path)\n",
        "    total_pages = len(images)\n",
        "    print(\"Total Pages:\", total_pages)\n",
        "\n",
        "    # Define the folder name you want to create\n",
        "    folder_name = 'Pages'\n",
        "\n",
        "    # Create the folder in the current working directory\n",
        "    folder_path = os.path.join('/content', folder_name)\n",
        "\n",
        "    try:\n",
        "        os.makedirs(folder_path)\n",
        "        print(\"Folder created successfully!\")\n",
        "    except FileExistsError:\n",
        "        print(\"Folder already exists.\")\n",
        "\n",
        "    # Saving pages as image\n",
        "    for i in range(total_pages):\n",
        "        page_path = os.path.join(folder_path, f'page{i}.jpg')\n",
        "        pages.append(page_path)\n",
        "        print(\"Page Paths:\", pages)\n",
        "        images[i].save(page_path, 'JPEG')\n",
        "\n",
        "    return pages\n",
        "# if file_path.endswith('.pdf'):\n",
        "#    create_image(file_path)\n"
      ],
      "metadata": {
        "id": "Zc2Davv55SgV"
      },
      "execution_count": 57,
      "outputs": []
    },
    {
      "cell_type": "code",
      "source": [
        "def delete_image(pages):\n",
        "    for page in pages:\n",
        "        try:\n",
        "            os.remove(page)\n",
        "            print(f\"Deleted {page}\")\n",
        "        except FileNotFoundError:\n",
        "            print(f\"{page} not found.\")\n",
        "        except Exception as e:\n",
        "            print(f\"Failed to delete {page}: {e}\")\n",
        "    pages = []"
      ],
      "metadata": {
        "id": "g5jQGyuw5XCD"
      },
      "execution_count": 51,
      "outputs": []
    },
    {
      "cell_type": "code",
      "source": [
        "def ner(necessary_data):\n",
        "    nlp_ner = spacy.load(\"/content/model-best\")\n",
        "    doc= nlp_ner(necessary_data[0])\n",
        "    print(\"doc--------->\",doc,\"-------------------->docent\")\n",
        "    print(\"data----------?>\",necessary_data)\n",
        "\n",
        "    spacy.displacy.render(doc, style=\"ent\", jupyter=True)\n",
        "    entities_table = []\n",
        "    for ent in doc.ents:\n",
        "        if ent.label_ in necessary_data[1]:\n",
        "            entities_table.append([ent.text, ent.label_])\n",
        "            # print(\"Start Char Position:\", ent.start_char)\n",
        "            # print(\"End Char Position:\", ent.end_char)\n",
        "    print(\"ner--------------------->\",entities_table)\n",
        "\n",
        "    # Print the entities and labels  in a table format\n",
        "    df = pd.DataFrame(entities_table, columns=[\"Entity Text\", \"Entity Label\"])\n",
        "    df.columns = [\"Text\", \"Label\"]\n",
        "    return df"
      ],
      "metadata": {
        "id": "0d0309Xz6CdP"
      },
      "execution_count": 60,
      "outputs": []
    },
    {
      "cell_type": "code",
      "source": [
        "%pip install  paddlepaddle-gpu paddleocr>=2.0.1 -q\n",
        "\n",
        "!wget http://nz2.archive.ubuntu.com/ubuntu/pool/main/o/openssl/libssl1.1_1.1.1f-1ubuntu2.19_amd64.deb # this\n",
        "!sudo dpkg -i libssl1.1_1.1.1f-1ubuntu2.19_amd64.deb # and this is needed for paddle ocr"
      ],
      "metadata": {
        "id": "qRAX91xk5aQI",
        "colab": {
          "base_uri": "https://localhost:8080/"
        },
        "outputId": "ef937c78-4adb-489d-9855-a64ba02d5fcf"
      },
      "execution_count": 45,
      "outputs": [
        {
          "output_type": "stream",
          "name": "stdout",
          "text": [
            "--2023-11-01 05:32:08--  http://nz2.archive.ubuntu.com/ubuntu/pool/main/o/openssl/libssl1.1_1.1.1f-1ubuntu2.19_amd64.deb\n",
            "Resolving nz2.archive.ubuntu.com (nz2.archive.ubuntu.com)... 91.189.91.83, 185.125.190.39, 91.189.91.82, ...\n",
            "Connecting to nz2.archive.ubuntu.com (nz2.archive.ubuntu.com)|91.189.91.83|:80... connected.\n",
            "HTTP request sent, awaiting response... 404 Not Found\n",
            "2023-11-01 05:32:08 ERROR 404: Not Found.\n",
            "\n",
            "\u001b[1mdpkg:\u001b[0m \u001b[1;31merror:\u001b[0m cannot access archive 'libssl1.1_1.1.1f-1ubuntu2.19_amd64.deb': No such file or directory\n"
          ]
        }
      ]
    },
    {
      "cell_type": "code",
      "source": [
        "from paddleocr import PaddleOCR"
      ],
      "metadata": {
        "id": "ZdN0pjEz50Kk"
      },
      "execution_count": 46,
      "outputs": []
    },
    {
      "cell_type": "code",
      "source": [
        "# extracting text from images\n",
        "def read_from_pdf(pdf_path):\n",
        "    # print(\"c\")\n",
        "    tags_page_wise = []\n",
        "    pocr = PaddleOCR(use_angle_cls=True, lang='en', use_gpu=False)\n",
        "    entire_text = \"\"\n",
        "    pages = create_image(pdf_path)\n",
        "    print(\"PAGES\",pages)\n",
        "    for i, img_path in enumerate(pages):\n",
        "        struct = pocr.ocr(img_path)\n",
        "        struct = struct[0]\n",
        "        text = \"\"\n",
        "        for lst in struct:\n",
        "            text += lst[1][0]\n",
        "            text += \" \"\n",
        "\n",
        "\n",
        "        found = False\n",
        "        for key, val in headings.items():\n",
        "            # print(key, val[\"pattern\"])\n",
        "            pattern_text = val[\"pattern\"]\n",
        "            for find_text in pattern_text:\n",
        "                pattern = re.compile(r\"\\b\" + re.escape(find_text) + r\"\\b\", re.IGNORECASE)\n",
        "\n",
        "                x = re.search(pattern, text)\n",
        "\n",
        "                if x:\n",
        "                    found = True\n",
        "                    df = pd.DataFrame()\n",
        "                    if i == 0:\n",
        "                        parent_heading = val[\"label\"]\n",
        "                        print(f\"\\n\\nDocument Type: \\n{parent_heading} At Page: 1\\n\\n\")\n",
        "                        df = ner((text, val[\"tags\"]))\n",
        "                        print(df)\n",
        "                    else:\n",
        "                        child_heading = val[\"label\"]\n",
        "                        print(f\"\\n\\nDocument Type: \\n{parent_heading}-{child_heading} At Page: {i+1}\\n\\n\")\n",
        "                        df = ner((text, val[\"tags\"]))\n",
        "                    break\n",
        "\n",
        "        if not found:\n",
        "            print(f\"\\n\\nHeading: \\n{parent_heading}-MISC At Page: {i+1}\\n\\n\")\n",
        "\n",
        "        if len(df) != 0:\n",
        "            df.to_csv(f\"output_{i}.csv\", index=False)  # Set index=False to exclude the index column\n",
        "        else:\n",
        "            print(\"DataFrame is Empty!\")\n",
        "        return text,df\n",
        "\n",
        "    delete_image(pages)"
      ],
      "metadata": {
        "id": "gubGvFAc57na"
      },
      "execution_count": 47,
      "outputs": []
    },
    {
      "cell_type": "code",
      "source": [
        "def read_from_json(file_path):\n",
        "    file = open(file_path)\n",
        "    data = json.load(file)\n",
        "\n",
        "    # extracting neccessary ids\n",
        "    neccessary_ids = []\n",
        "\n",
        "    for obj in data[\"Blocks\"]:\n",
        "        if obj[\"BlockType\"] == \"PAGE\":\n",
        "            for ind, ids in enumerate(obj[\"Relationships\"][0][\"Ids\"]):\n",
        "                neccessary_ids.append(ids)\n",
        "\n",
        "    # print(neccessary_ids)\n",
        "    text_in_doc = []\n",
        "    text_in_page = \"\"\n",
        "    cnt = 0\n",
        "    for obj in data[\"Blocks\"]:\n",
        "        same_page = obj[\"Page\"]\n",
        "        if obj[\"Id\"] in neccessary_ids and same_page == obj[\"Page\"]:\n",
        "            if \"Text\" in obj.keys():\n",
        "                text_in_page += obj[\"Text\"]\n",
        "                text_in_page += \" \"\n",
        "        elif same_page == obj[\"Page\"]:\n",
        "            same_page = obj[\"Page\"]\n",
        "            if text_in_page != \"\":\n",
        "                text_in_doc.append(text_in_page)\n",
        "            text_in_page = \"\"\n",
        "    # print(len(text_in_doc))\n",
        "\n",
        "    for i, text in enumerate(text_in_doc):\n",
        "        found = False\n",
        "        # print(obj[\"Text\"],\"At Page\", obj[\"Page\"])\n",
        "        for key, val in headings.items():\n",
        "            pattern_text = val[\"pattern\"]\n",
        "            for find_text in pattern_text:\n",
        "                pattern = re.compile(r\"\\b\" + re.escape(find_text) + r\"\\b\", re.IGNORECASE)\n",
        "                x = re.search(pattern, text)\n",
        "                if x:\n",
        "                    found = True\n",
        "                    heading = val[\"label\"]\n",
        "                    tags = val[\"tags\"]\n",
        "                    print(f\"\\n\\nHeading: {heading} At Page {i+1}\\n\\n\")\n",
        "                    df = ner((text, val[\"tags\"]))\n",
        "                    break\n",
        "        if not found:\n",
        "            print(f\"\\n\\nHeading: \\nMISC At Page {i+1}\\n\\n\")\n",
        "\n",
        "        if len(df) != 0:\n",
        "            df.to_csv(f\"output_{i}.csv\", index=False)  # Set index=False to exclude the index column\n",
        "        else:\n",
        "            print(\"DataFrame is Empty!\")"
      ],
      "metadata": {
        "id": "tEtV71zV4Zee"
      },
      "execution_count": 24,
      "outputs": []
    },
    {
      "cell_type": "code",
      "source": [
        "def extract_useful_data(file_path):\n",
        "    if file_path.endswith('.json'):\n",
        "        read_from_json(file_path)\n",
        "    elif file_path.endswith('.pdf'):\n",
        "        read_from_pdf(file_path)\n",
        "    else:\n",
        "        print(\"File Type Not Supported!\")"
      ],
      "metadata": {
        "id": "EOHwS9Qnt9J7"
      },
      "execution_count": 63,
      "outputs": []
    },
    {
      "cell_type": "code",
      "source": [
        "# file_path = \"/content/Return of Capital on 2023 08 04 for Vista Equity Partners Fund VIII, L.P..pdf\"\n",
        "extract_useful_data(file_path)\n",
        "# print(\"the text is\",text)"
      ],
      "metadata": {
        "id": "RUQEFcz36NRV",
        "colab": {
          "base_uri": "https://localhost:8080/",
          "height": 1000
        },
        "outputId": "925be584-ffd2-4ea6-8e1b-4de196bac7c1"
      },
      "execution_count": 64,
      "outputs": [
        {
          "output_type": "stream",
          "name": "stdout",
          "text": [
            "\n",
            "\n",
            "Heading: Capital At Page 1\n",
            "\n",
            "\n",
            "doc---------> EGT EQT Fund Management S.àr.l. 51A, Boulevard Royal, L-2449 Luxembourg, Luxembourg STRICTLY PRIVATE AND CONFIDENTIAL NEWVEST VINTAGE 2022 AGGREGATOR PE 50 LP 14 July 2023 EQT X (No.2) USD SCSp (the \"Partnership\") Investor Reference: EQTXUSDII048 Notice of Capital Event: Investments Dear EQT Investor, Please be advised that this is a notice of a net zero event in connection with the investment in Billtrust for value date 18 July 2023. A net zero event implies that we are drawing and distributing the same amount, hence this notice is being provided to you for information purposes only. Therefore, as an investor you are not required to remit any contribution and no proceeds will be distributed in relation to this notice. Your share of the amount under the notice is detailed below: INVESTOR'S SUMMARY USD Billtrust - Equity Investment (28,166.48) Total Drawdown - Affecting Commitments (28,166.48) Billtrust - Return of Capital (Recallable) 28,166.48 Total Distribution - Affecting Commitments 28,166.48 Total Net Distribution 0.00 Billtrust The amount drawn under this notice will be applied to cover the equity investment by the Partnership into Billtrust, which is held via Bullseye Holdings S.à r.l., a Luxembourg incorporated holding company. The return of capital represents the co-investment stake re-allocation by the Partnership into Billtrust. The return of capital is classified as a distribution in respect of a Short Term Investment under clause 6(c) of the Limited Partnership Agreement (the \"LPA\"). Under the terms of the LPA, the Manager is therefore entitled to recall such capital amount in the future. INVESTOR'S COMMITMENT SUMMARY USD Total Commitment 5,000,000.00 Available prior to this notice 4,416,007.41 Drawn under this notice (28,166.48) Recallable under this notice 28,166.48 Remaining Commitment 4,416,007.41 Percentage of Remaining Commitment 88.32%  -------------------->docent\n",
            "data----------?> ('EGT EQT Fund Management S.àr.l. 51A, Boulevard Royal, L-2449 Luxembourg, Luxembourg STRICTLY PRIVATE AND CONFIDENTIAL NEWVEST VINTAGE 2022 AGGREGATOR PE 50 LP 14 July 2023 EQT X (No.2) USD SCSp (the \"Partnership\") Investor Reference: EQTXUSDII048 Notice of Capital Event: Investments Dear EQT Investor, Please be advised that this is a notice of a net zero event in connection with the investment in Billtrust for value date 18 July 2023. A net zero event implies that we are drawing and distributing the same amount, hence this notice is being provided to you for information purposes only. Therefore, as an investor you are not required to remit any contribution and no proceeds will be distributed in relation to this notice. Your share of the amount under the notice is detailed below: INVESTOR\\'S SUMMARY USD Billtrust - Equity Investment (28,166.48) Total Drawdown - Affecting Commitments (28,166.48) Billtrust - Return of Capital (Recallable) 28,166.48 Total Distribution - Affecting Commitments 28,166.48 Total Net Distribution 0.00 Billtrust The amount drawn under this notice will be applied to cover the equity investment by the Partnership into Billtrust, which is held via Bullseye Holdings S.à r.l., a Luxembourg incorporated holding company. The return of capital represents the co-investment stake re-allocation by the Partnership into Billtrust. The return of capital is classified as a distribution in respect of a Short Term Investment under clause 6(c) of the Limited Partnership Agreement (the \"LPA\"). Under the terms of the LPA, the Manager is therefore entitled to recall such capital amount in the future. INVESTOR\\'S COMMITMENT SUMMARY USD Total Commitment 5,000,000.00 Available prior to this notice 4,416,007.41 Drawn under this notice (28,166.48) Recallable under this notice 28,166.48 Remaining Commitment 4,416,007.41 Percentage of Remaining Commitment 88.32% ', ['FUND_NAME', 'GP_NAME', 'LP_NAME', 'INVESTMENT_NAME', 'INVESTMENT_AMOUNT', 'NOTICE_DATE', 'DUE_DATE', 'CURRENCY_CODE', 'AMOUNT_DUE', 'COMMITMENT_AMOUNT', 'UNFUNDED_COMMITMENT', 'INVESTOR_NUMBER', 'NOTICE_NUMBER', 'INVESTMENT_CALL_AMOUNT', 'EXCESS_CASH_RETURNED', 'MANAGEMENT_FEE', 'MANAGEMENT_FEE_DISCOUNT', 'MAKE_UP_MANAGEMENT_FEE', 'MANAGEMENT_FEE_INTEREST', 'NET_MANAGEMENT_FEE', 'PARTNERSHIP_EXPENSES', 'ORGANIZATIONAL_COSTS', 'DISTRIBUTION_OF_PROCEEDS', 'CAPITAL_CONTRIBUTION_', 'AGGREGATE_CAPITAL_CALL_AMOUNT', 'TOTAL_MAKE_UP_CONTRIBUTIONS', 'MAKE_UP_INTEREST_PAYMENT', 'UNDRAWN_COMMITMENT_BEFORE', 'UNDRAWN_COMMITMENT_EFFECT', 'UNDRAWN_COMMITMENT_AFTER'])\n"
          ]
        },
        {
          "output_type": "display_data",
          "data": {
            "text/plain": [
              "<IPython.core.display.HTML object>"
            ],
            "text/html": [
              "<span class=\"tex2jax_ignore\"><div class=\"entities\" style=\"line-height: 2.5; direction: ltr\">\n",
              "<mark class=\"entity\" style=\"background: #ddd; padding: 0.45em 0.6em; margin: 0 0.25em; line-height: 1; border-radius: 0.35em;\">\n",
              "    EGT EQT Fund Management S.àr.l.\n",
              "    <span style=\"font-size: 0.8em; font-weight: bold; line-height: 1; border-radius: 0.35em; vertical-align: middle; margin-left: 0.5rem\">FUND_NAME</span>\n",
              "</mark>\n",
              " 51A, Boulevard Royal, L-2449 Luxembourg, Luxembourg STRICTLY PRIVATE AND CONFIDENTIAL \n",
              "<mark class=\"entity\" style=\"background: #ddd; padding: 0.45em 0.6em; margin: 0 0.25em; line-height: 1; border-radius: 0.35em;\">\n",
              "    NEWVEST VINTAGE 2022 AGGREGATOR PE 50 LP\n",
              "    <span style=\"font-size: 0.8em; font-weight: bold; line-height: 1; border-radius: 0.35em; vertical-align: middle; margin-left: 0.5rem\">LP_NAME</span>\n",
              "</mark>\n",
              " \n",
              "<mark class=\"entity\" style=\"background: #ddd; padding: 0.45em 0.6em; margin: 0 0.25em; line-height: 1; border-radius: 0.35em;\">\n",
              "    14 July 2023\n",
              "    <span style=\"font-size: 0.8em; font-weight: bold; line-height: 1; border-radius: 0.35em; vertical-align: middle; margin-left: 0.5rem\">NOTICE_DATE</span>\n",
              "</mark>\n",
              " \n",
              "<mark class=\"entity\" style=\"background: #ddd; padding: 0.45em 0.6em; margin: 0 0.25em; line-height: 1; border-radius: 0.35em;\">\n",
              "    EQT X (No.2) USD SCSp (the &quot;Partnership&quot;) Investor Reference: EQTXUSDII048 Notice of Capital Event: Investments Dear EQT Investor, Please be advised that this is a notice of a net zero event in connection with the investment in Billtrust for value date 18\n",
              "    <span style=\"font-size: 0.8em; font-weight: bold; line-height: 1; border-radius: 0.35em; vertical-align: middle; margin-left: 0.5rem\">FUND_NAME</span>\n",
              "</mark>\n",
              " July 2023. A net zero event implies that we are drawing and distributing the same amount, hence this notice is being provided to you for information purposes only. Therefore, as an investor you are not required to remit any contribution and no proceeds will be distributed in relation to this notice. Your share of the amount under the notice is detailed below: INVESTOR'S SUMMARY USD Billtrust - Equity Investment (\n",
              "<mark class=\"entity\" style=\"background: #ddd; padding: 0.45em 0.6em; margin: 0 0.25em; line-height: 1; border-radius: 0.35em;\">\n",
              "    28,166.48\n",
              "    <span style=\"font-size: 0.8em; font-weight: bold; line-height: 1; border-radius: 0.35em; vertical-align: middle; margin-left: 0.5rem\">INVESTMENT_AMOUNT</span>\n",
              "</mark>\n",
              ") Total Drawdown - Affecting Commitments (\n",
              "<mark class=\"entity\" style=\"background: #ddd; padding: 0.45em 0.6em; margin: 0 0.25em; line-height: 1; border-radius: 0.35em;\">\n",
              "    28,166.48\n",
              "    <span style=\"font-size: 0.8em; font-weight: bold; line-height: 1; border-radius: 0.35em; vertical-align: middle; margin-left: 0.5rem\">AMOUNT_DUE</span>\n",
              "</mark>\n",
              ") Billtrust - Return of Capital (Recallable) \n",
              "<mark class=\"entity\" style=\"background: #ddd; padding: 0.45em 0.6em; margin: 0 0.25em; line-height: 1; border-radius: 0.35em;\">\n",
              "    28,166.48\n",
              "    <span style=\"font-size: 0.8em; font-weight: bold; line-height: 1; border-radius: 0.35em; vertical-align: middle; margin-left: 0.5rem\">RETURN_OF_CAPITAL_RECALLABLE</span>\n",
              "</mark>\n",
              " Total Distribution - Affecting Commitments \n",
              "<mark class=\"entity\" style=\"background: #ddd; padding: 0.45em 0.6em; margin: 0 0.25em; line-height: 1; border-radius: 0.35em;\">\n",
              "    28,166.48\n",
              "    <span style=\"font-size: 0.8em; font-weight: bold; line-height: 1; border-radius: 0.35em; vertical-align: middle; margin-left: 0.5rem\">RETURN_OF_CAPITAL_RECALLABLE</span>\n",
              "</mark>\n",
              " Total Net Distribution 0.00 Billtrust The amount drawn under this notice will be applied to cover the equity investment by the Partnership into Billtrust, which is held via Bullseye Holdings S.à r.l., a Luxembourg incorporated holding company. The return of capital represents the co-investment stake re-allocation by the Partnership into Billtrust. The return of capital is classified as a distribution in respect of a Short Term Investment under clause 6(c) of the Limited Partnership Agreement (the &quot;LPA&quot;). Under the terms of the LPA, the Manager is therefore entitled to recall such capital amount in the future. INVESTOR'S COMMITMENT SUMMARY USD Total Commitment \n",
              "<mark class=\"entity\" style=\"background: #ddd; padding: 0.45em 0.6em; margin: 0 0.25em; line-height: 1; border-radius: 0.35em;\">\n",
              "    5,000,000.00\n",
              "    <span style=\"font-size: 0.8em; font-weight: bold; line-height: 1; border-radius: 0.35em; vertical-align: middle; margin-left: 0.5rem\">COMMITMENT_AMOUNT</span>\n",
              "</mark>\n",
              " Available prior to this notice \n",
              "<mark class=\"entity\" style=\"background: #ddd; padding: 0.45em 0.6em; margin: 0 0.25em; line-height: 1; border-radius: 0.35em;\">\n",
              "    4,416,007.41\n",
              "    <span style=\"font-size: 0.8em; font-weight: bold; line-height: 1; border-radius: 0.35em; vertical-align: middle; margin-left: 0.5rem\">UNDRAWN_COMMITMENT_BEFORE</span>\n",
              "</mark>\n",
              " Drawn under this notice (\n",
              "<mark class=\"entity\" style=\"background: #ddd; padding: 0.45em 0.6em; margin: 0 0.25em; line-height: 1; border-radius: 0.35em;\">\n",
              "    28,166.48\n",
              "    <span style=\"font-size: 0.8em; font-weight: bold; line-height: 1; border-radius: 0.35em; vertical-align: middle; margin-left: 0.5rem\">RETURN_OF_CAPITAL_RECALLABLE</span>\n",
              "</mark>\n",
              ") Recallable under this notice \n",
              "<mark class=\"entity\" style=\"background: #ddd; padding: 0.45em 0.6em; margin: 0 0.25em; line-height: 1; border-radius: 0.35em;\">\n",
              "    28,166.48\n",
              "    <span style=\"font-size: 0.8em; font-weight: bold; line-height: 1; border-radius: 0.35em; vertical-align: middle; margin-left: 0.5rem\">RETURN_OF_CAPITAL_RECALLABLE</span>\n",
              "</mark>\n",
              " Remaining Commitment \n",
              "<mark class=\"entity\" style=\"background: #ddd; padding: 0.45em 0.6em; margin: 0 0.25em; line-height: 1; border-radius: 0.35em;\">\n",
              "    4,416,007.41\n",
              "    <span style=\"font-size: 0.8em; font-weight: bold; line-height: 1; border-radius: 0.35em; vertical-align: middle; margin-left: 0.5rem\">UNFUNDED_COMMITMENT</span>\n",
              "</mark>\n",
              " Percentage of Remaining Commitment 88.32% </div></span>"
            ]
          },
          "metadata": {}
        },
        {
          "output_type": "stream",
          "name": "stdout",
          "text": [
            "ner---------------------> [['EGT EQT Fund Management S.àr.l.', 'FUND_NAME'], ['NEWVEST VINTAGE 2022 AGGREGATOR PE 50 LP', 'LP_NAME'], ['14 July 2023', 'NOTICE_DATE'], ['EQT X (No.2) USD SCSp (the \"Partnership\") Investor Reference: EQTXUSDII048 Notice of Capital Event: Investments Dear EQT Investor, Please be advised that this is a notice of a net zero event in connection with the investment in Billtrust for value date 18', 'FUND_NAME'], ['28,166.48', 'INVESTMENT_AMOUNT'], ['28,166.48', 'AMOUNT_DUE'], ['5,000,000.00', 'COMMITMENT_AMOUNT'], ['4,416,007.41', 'UNDRAWN_COMMITMENT_BEFORE'], ['4,416,007.41', 'UNFUNDED_COMMITMENT']]\n",
            "\n",
            "\n",
            "Heading: Distribution At Page 1\n",
            "\n",
            "\n",
            "doc---------> EGT EQT Fund Management S.àr.l. 51A, Boulevard Royal, L-2449 Luxembourg, Luxembourg STRICTLY PRIVATE AND CONFIDENTIAL NEWVEST VINTAGE 2022 AGGREGATOR PE 50 LP 14 July 2023 EQT X (No.2) USD SCSp (the \"Partnership\") Investor Reference: EQTXUSDII048 Notice of Capital Event: Investments Dear EQT Investor, Please be advised that this is a notice of a net zero event in connection with the investment in Billtrust for value date 18 July 2023. A net zero event implies that we are drawing and distributing the same amount, hence this notice is being provided to you for information purposes only. Therefore, as an investor you are not required to remit any contribution and no proceeds will be distributed in relation to this notice. Your share of the amount under the notice is detailed below: INVESTOR'S SUMMARY USD Billtrust - Equity Investment (28,166.48) Total Drawdown - Affecting Commitments (28,166.48) Billtrust - Return of Capital (Recallable) 28,166.48 Total Distribution - Affecting Commitments 28,166.48 Total Net Distribution 0.00 Billtrust The amount drawn under this notice will be applied to cover the equity investment by the Partnership into Billtrust, which is held via Bullseye Holdings S.à r.l., a Luxembourg incorporated holding company. The return of capital represents the co-investment stake re-allocation by the Partnership into Billtrust. The return of capital is classified as a distribution in respect of a Short Term Investment under clause 6(c) of the Limited Partnership Agreement (the \"LPA\"). Under the terms of the LPA, the Manager is therefore entitled to recall such capital amount in the future. INVESTOR'S COMMITMENT SUMMARY USD Total Commitment 5,000,000.00 Available prior to this notice 4,416,007.41 Drawn under this notice (28,166.48) Recallable under this notice 28,166.48 Remaining Commitment 4,416,007.41 Percentage of Remaining Commitment 88.32%  -------------------->docent\n",
            "data----------?> ('EGT EQT Fund Management S.àr.l. 51A, Boulevard Royal, L-2449 Luxembourg, Luxembourg STRICTLY PRIVATE AND CONFIDENTIAL NEWVEST VINTAGE 2022 AGGREGATOR PE 50 LP 14 July 2023 EQT X (No.2) USD SCSp (the \"Partnership\") Investor Reference: EQTXUSDII048 Notice of Capital Event: Investments Dear EQT Investor, Please be advised that this is a notice of a net zero event in connection with the investment in Billtrust for value date 18 July 2023. A net zero event implies that we are drawing and distributing the same amount, hence this notice is being provided to you for information purposes only. Therefore, as an investor you are not required to remit any contribution and no proceeds will be distributed in relation to this notice. Your share of the amount under the notice is detailed below: INVESTOR\\'S SUMMARY USD Billtrust - Equity Investment (28,166.48) Total Drawdown - Affecting Commitments (28,166.48) Billtrust - Return of Capital (Recallable) 28,166.48 Total Distribution - Affecting Commitments 28,166.48 Total Net Distribution 0.00 Billtrust The amount drawn under this notice will be applied to cover the equity investment by the Partnership into Billtrust, which is held via Bullseye Holdings S.à r.l., a Luxembourg incorporated holding company. The return of capital represents the co-investment stake re-allocation by the Partnership into Billtrust. The return of capital is classified as a distribution in respect of a Short Term Investment under clause 6(c) of the Limited Partnership Agreement (the \"LPA\"). Under the terms of the LPA, the Manager is therefore entitled to recall such capital amount in the future. INVESTOR\\'S COMMITMENT SUMMARY USD Total Commitment 5,000,000.00 Available prior to this notice 4,416,007.41 Drawn under this notice (28,166.48) Recallable under this notice 28,166.48 Remaining Commitment 4,416,007.41 Percentage of Remaining Commitment 88.32% ', ['FUND_NAME', 'GP_NAME', 'LP_NAME', 'INVESTMENT_NAME', 'INVESTMENT_AMOUNT', 'NOTICE_DATE', 'DUE_DATE', 'CURRENCY_CODE', 'AMOUNT_DUE', 'COMMITMENT_AMOUNT', 'UNFUNDED_COMMITMENT', 'INVESTOR_NUMBER', 'NOTICE_NUMBER', 'INVESTMENT_CALL_AMOUNT', 'EXCESS_CASH_RETURNED', 'MANAGEMENT_FEE', 'MANAGEMENT_FEE_DISCOUNT', 'MAKE_UP_MANAGEMENT_FEE', 'MANAGEMENT_FEE_INTEREST', 'NET_MANAGEMENT_FEE', 'PARTNERSHIP_EXPENSES', 'ORGANIZATIONAL_COSTS', 'DISTRIBUTION_OF_PROCEEDS', 'CAPITAL_CONTRIBUTION_', 'AGGREGATE_CAPITAL_CALL_AMOUNT', 'TOTAL_MAKE_UP_CONTRIBUTIONS', 'MAKE_UP_INTEREST_PAYMENT', 'UNDRAWN_COMMITMENT_BEFORE', 'UNDRAWN_COMMITMENT_EFFECT', 'UNDRAWN_COMMITMENT_AFTER'])\n"
          ]
        },
        {
          "output_type": "display_data",
          "data": {
            "text/plain": [
              "<IPython.core.display.HTML object>"
            ],
            "text/html": [
              "<span class=\"tex2jax_ignore\"><div class=\"entities\" style=\"line-height: 2.5; direction: ltr\">\n",
              "<mark class=\"entity\" style=\"background: #ddd; padding: 0.45em 0.6em; margin: 0 0.25em; line-height: 1; border-radius: 0.35em;\">\n",
              "    EGT EQT Fund Management S.àr.l.\n",
              "    <span style=\"font-size: 0.8em; font-weight: bold; line-height: 1; border-radius: 0.35em; vertical-align: middle; margin-left: 0.5rem\">FUND_NAME</span>\n",
              "</mark>\n",
              " 51A, Boulevard Royal, L-2449 Luxembourg, Luxembourg STRICTLY PRIVATE AND CONFIDENTIAL \n",
              "<mark class=\"entity\" style=\"background: #ddd; padding: 0.45em 0.6em; margin: 0 0.25em; line-height: 1; border-radius: 0.35em;\">\n",
              "    NEWVEST VINTAGE 2022 AGGREGATOR PE 50 LP\n",
              "    <span style=\"font-size: 0.8em; font-weight: bold; line-height: 1; border-radius: 0.35em; vertical-align: middle; margin-left: 0.5rem\">LP_NAME</span>\n",
              "</mark>\n",
              " \n",
              "<mark class=\"entity\" style=\"background: #ddd; padding: 0.45em 0.6em; margin: 0 0.25em; line-height: 1; border-radius: 0.35em;\">\n",
              "    14 July 2023\n",
              "    <span style=\"font-size: 0.8em; font-weight: bold; line-height: 1; border-radius: 0.35em; vertical-align: middle; margin-left: 0.5rem\">NOTICE_DATE</span>\n",
              "</mark>\n",
              " \n",
              "<mark class=\"entity\" style=\"background: #ddd; padding: 0.45em 0.6em; margin: 0 0.25em; line-height: 1; border-radius: 0.35em;\">\n",
              "    EQT X (No.2) USD SCSp (the &quot;Partnership&quot;) Investor Reference: EQTXUSDII048 Notice of Capital Event: Investments Dear EQT Investor, Please be advised that this is a notice of a net zero event in connection with the investment in Billtrust for value date 18\n",
              "    <span style=\"font-size: 0.8em; font-weight: bold; line-height: 1; border-radius: 0.35em; vertical-align: middle; margin-left: 0.5rem\">FUND_NAME</span>\n",
              "</mark>\n",
              " July 2023. A net zero event implies that we are drawing and distributing the same amount, hence this notice is being provided to you for information purposes only. Therefore, as an investor you are not required to remit any contribution and no proceeds will be distributed in relation to this notice. Your share of the amount under the notice is detailed below: INVESTOR'S SUMMARY USD Billtrust - Equity Investment (\n",
              "<mark class=\"entity\" style=\"background: #ddd; padding: 0.45em 0.6em; margin: 0 0.25em; line-height: 1; border-radius: 0.35em;\">\n",
              "    28,166.48\n",
              "    <span style=\"font-size: 0.8em; font-weight: bold; line-height: 1; border-radius: 0.35em; vertical-align: middle; margin-left: 0.5rem\">INVESTMENT_AMOUNT</span>\n",
              "</mark>\n",
              ") Total Drawdown - Affecting Commitments (\n",
              "<mark class=\"entity\" style=\"background: #ddd; padding: 0.45em 0.6em; margin: 0 0.25em; line-height: 1; border-radius: 0.35em;\">\n",
              "    28,166.48\n",
              "    <span style=\"font-size: 0.8em; font-weight: bold; line-height: 1; border-radius: 0.35em; vertical-align: middle; margin-left: 0.5rem\">AMOUNT_DUE</span>\n",
              "</mark>\n",
              ") Billtrust - Return of Capital (Recallable) \n",
              "<mark class=\"entity\" style=\"background: #ddd; padding: 0.45em 0.6em; margin: 0 0.25em; line-height: 1; border-radius: 0.35em;\">\n",
              "    28,166.48\n",
              "    <span style=\"font-size: 0.8em; font-weight: bold; line-height: 1; border-radius: 0.35em; vertical-align: middle; margin-left: 0.5rem\">RETURN_OF_CAPITAL_RECALLABLE</span>\n",
              "</mark>\n",
              " Total Distribution - Affecting Commitments \n",
              "<mark class=\"entity\" style=\"background: #ddd; padding: 0.45em 0.6em; margin: 0 0.25em; line-height: 1; border-radius: 0.35em;\">\n",
              "    28,166.48\n",
              "    <span style=\"font-size: 0.8em; font-weight: bold; line-height: 1; border-radius: 0.35em; vertical-align: middle; margin-left: 0.5rem\">RETURN_OF_CAPITAL_RECALLABLE</span>\n",
              "</mark>\n",
              " Total Net Distribution 0.00 Billtrust The amount drawn under this notice will be applied to cover the equity investment by the Partnership into Billtrust, which is held via Bullseye Holdings S.à r.l., a Luxembourg incorporated holding company. The return of capital represents the co-investment stake re-allocation by the Partnership into Billtrust. The return of capital is classified as a distribution in respect of a Short Term Investment under clause 6(c) of the Limited Partnership Agreement (the &quot;LPA&quot;). Under the terms of the LPA, the Manager is therefore entitled to recall such capital amount in the future. INVESTOR'S COMMITMENT SUMMARY USD Total Commitment \n",
              "<mark class=\"entity\" style=\"background: #ddd; padding: 0.45em 0.6em; margin: 0 0.25em; line-height: 1; border-radius: 0.35em;\">\n",
              "    5,000,000.00\n",
              "    <span style=\"font-size: 0.8em; font-weight: bold; line-height: 1; border-radius: 0.35em; vertical-align: middle; margin-left: 0.5rem\">COMMITMENT_AMOUNT</span>\n",
              "</mark>\n",
              " Available prior to this notice \n",
              "<mark class=\"entity\" style=\"background: #ddd; padding: 0.45em 0.6em; margin: 0 0.25em; line-height: 1; border-radius: 0.35em;\">\n",
              "    4,416,007.41\n",
              "    <span style=\"font-size: 0.8em; font-weight: bold; line-height: 1; border-radius: 0.35em; vertical-align: middle; margin-left: 0.5rem\">UNDRAWN_COMMITMENT_BEFORE</span>\n",
              "</mark>\n",
              " Drawn under this notice (\n",
              "<mark class=\"entity\" style=\"background: #ddd; padding: 0.45em 0.6em; margin: 0 0.25em; line-height: 1; border-radius: 0.35em;\">\n",
              "    28,166.48\n",
              "    <span style=\"font-size: 0.8em; font-weight: bold; line-height: 1; border-radius: 0.35em; vertical-align: middle; margin-left: 0.5rem\">RETURN_OF_CAPITAL_RECALLABLE</span>\n",
              "</mark>\n",
              ") Recallable under this notice \n",
              "<mark class=\"entity\" style=\"background: #ddd; padding: 0.45em 0.6em; margin: 0 0.25em; line-height: 1; border-radius: 0.35em;\">\n",
              "    28,166.48\n",
              "    <span style=\"font-size: 0.8em; font-weight: bold; line-height: 1; border-radius: 0.35em; vertical-align: middle; margin-left: 0.5rem\">RETURN_OF_CAPITAL_RECALLABLE</span>\n",
              "</mark>\n",
              " Remaining Commitment \n",
              "<mark class=\"entity\" style=\"background: #ddd; padding: 0.45em 0.6em; margin: 0 0.25em; line-height: 1; border-radius: 0.35em;\">\n",
              "    4,416,007.41\n",
              "    <span style=\"font-size: 0.8em; font-weight: bold; line-height: 1; border-radius: 0.35em; vertical-align: middle; margin-left: 0.5rem\">UNFUNDED_COMMITMENT</span>\n",
              "</mark>\n",
              " Percentage of Remaining Commitment 88.32% </div></span>"
            ]
          },
          "metadata": {}
        },
        {
          "output_type": "stream",
          "name": "stdout",
          "text": [
            "ner---------------------> [['EGT EQT Fund Management S.àr.l.', 'FUND_NAME'], ['NEWVEST VINTAGE 2022 AGGREGATOR PE 50 LP', 'LP_NAME'], ['14 July 2023', 'NOTICE_DATE'], ['EQT X (No.2) USD SCSp (the \"Partnership\") Investor Reference: EQTXUSDII048 Notice of Capital Event: Investments Dear EQT Investor, Please be advised that this is a notice of a net zero event in connection with the investment in Billtrust for value date 18', 'FUND_NAME'], ['28,166.48', 'INVESTMENT_AMOUNT'], ['28,166.48', 'AMOUNT_DUE'], ['5,000,000.00', 'COMMITMENT_AMOUNT'], ['4,416,007.41', 'UNDRAWN_COMMITMENT_BEFORE'], ['4,416,007.41', 'UNFUNDED_COMMITMENT']]\n",
            "\n",
            "\n",
            "Heading: \n",
            "MISC At Page 2\n",
            "\n",
            "\n"
          ]
        }
      ]
    },
    {
      "cell_type": "code",
      "source": [
        "!zip -r /content/model-best.zip /content/model-best\n"
      ],
      "metadata": {
        "id": "dOFzU5iQJQc6",
        "colab": {
          "base_uri": "https://localhost:8080/"
        },
        "outputId": "c2bd31fd-2611-4e51-dcb2-d604f7d671e3"
      },
      "execution_count": null,
      "outputs": [
        {
          "output_type": "stream",
          "name": "stdout",
          "text": [
            "  adding: content/model-best/ (stored 0%)\n",
            "  adding: content/model-best/config.cfg (deflated 61%)\n",
            "  adding: content/model-best/tok2vec/ (stored 0%)\n",
            "  adding: content/model-best/tok2vec/cfg (stored 0%)\n",
            "  adding: content/model-best/tok2vec/model (deflated 8%)\n",
            "  adding: content/model-best/vocab/ (stored 0%)\n",
            "  adding: content/model-best/vocab/strings.json (deflated 72%)\n",
            "  adding: content/model-best/vocab/lookups.bin (stored 0%)\n",
            "  adding: content/model-best/vocab/vectors.cfg (stored 0%)\n",
            "  adding: content/model-best/vocab/key2row (stored 0%)\n",
            "  adding: content/model-best/vocab/vectors (deflated 45%)\n",
            "  adding: content/model-best/meta.json (deflated 77%)\n",
            "  adding: content/model-best/tokenizer (deflated 81%)\n",
            "  adding: content/model-best/ner/ (stored 0%)\n",
            "  adding: content/model-best/ner/moves (deflated 82%)\n",
            "  adding: content/model-best/ner/cfg (deflated 33%)\n",
            "  adding: content/model-best/ner/model (deflated 13%)\n"
          ]
        }
      ]
    },
    {
      "cell_type": "code",
      "source": [],
      "metadata": {
        "id": "qN83Eam5FgyU"
      },
      "execution_count": null,
      "outputs": []
    }
  ]
}